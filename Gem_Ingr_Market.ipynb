{
 "cells": [
  {
   "cell_type": "code",
   "execution_count": 1,
   "metadata": {},
   "outputs": [],
   "source": [
    "import json\n",
    "import psycopg2\n",
    "from displayGemList import generate_recipe\n",
    "import pandas as pd"
   ]
  },
  {
   "cell_type": "code",
   "execution_count": 2,
   "metadata": {},
   "outputs": [],
   "source": [
    "conn = psycopg2.connect(host=\"localhost\",user=\"antopher\",password=\"4S&7Ya\", dbname=\"testone\")\n",
    "c = conn.cursor()\n",
    "recipies = generate_recipe()\n",
    "prices={}"
   ]
  },
  {
   "cell_type": "code",
   "execution_count": 3,
   "metadata": {},
   "outputs": [],
   "source": [
    "c.execute(\"SELECT ingredient_type,price FROM ingr WHERE time_stamp = (SELECT MAX(time_stamp) FROM ingr) ORDER BY ingredient_type ASC, price ASC\")\n",
    "currentlistings = c.fetchall()\n",
    "df = pd.DataFrame(currentlistings, columns=['ingredient_type','price'])"
   ]
  },
  {
   "cell_type": "code",
   "execution_count": 4,
   "metadata": {},
   "outputs": [
    {
     "data": {
      "text/html": [
       "<div>\n",
       "<style scoped>\n",
       "    .dataframe tbody tr th:only-of-type {\n",
       "        vertical-align: middle;\n",
       "    }\n",
       "\n",
       "    .dataframe tbody tr th {\n",
       "        vertical-align: top;\n",
       "    }\n",
       "\n",
       "    .dataframe thead th {\n",
       "        text-align: right;\n",
       "    }\n",
       "</style>\n",
       "<table border=\"1\" class=\"dataframe\">\n",
       "  <thead>\n",
       "    <tr style=\"text-align: right;\">\n",
       "      <th></th>\n",
       "      <th>ingredient_type</th>\n",
       "      <th>price</th>\n",
       "    </tr>\n",
       "  </thead>\n",
       "  <tbody>\n",
       "    <tr>\n",
       "      <th>0</th>\n",
       "      <td>Aberration Mind Source</td>\n",
       "      <td>30000000</td>\n",
       "    </tr>\n",
       "    <tr>\n",
       "      <th>1</th>\n",
       "      <td>Aberration Mind Source</td>\n",
       "      <td>32974900</td>\n",
       "    </tr>\n",
       "    <tr>\n",
       "      <th>2</th>\n",
       "      <td>Aberration Mind Source</td>\n",
       "      <td>32974999</td>\n",
       "    </tr>\n",
       "    <tr>\n",
       "      <th>3</th>\n",
       "      <td>Aberration Mind Source</td>\n",
       "      <td>32975000</td>\n",
       "    </tr>\n",
       "    <tr>\n",
       "      <th>4</th>\n",
       "      <td>Aberration Mind Source</td>\n",
       "      <td>33000000</td>\n",
       "    </tr>\n",
       "  </tbody>\n",
       "</table>\n",
       "</div>"
      ],
      "text/plain": [
       "          ingredient_type     price\n",
       "0  Aberration Mind Source  30000000\n",
       "1  Aberration Mind Source  32974900\n",
       "2  Aberration Mind Source  32974999\n",
       "3  Aberration Mind Source  32975000\n",
       "4  Aberration Mind Source  33000000"
      ]
     },
     "execution_count": 4,
     "metadata": {},
     "output_type": "execute_result"
    }
   ],
   "source": [
    "df.head()"
   ]
  },
  {
   "cell_type": "code",
   "execution_count": 5,
   "metadata": {},
   "outputs": [],
   "source": [
    "for gemrecipe in recipies:\n",
    "\tcost=0\n",
    "\tfor ingr_item in recipies[gemrecipe]:\n",
    "\t\tcost=cost+(df.loc[df['ingredient_type']==ingr_item,['price']].iloc[0])*20\n",
    "\tprices[gemrecipe]= list(cost)"
   ]
  },
  {
   "cell_type": "code",
   "execution_count": 6,
   "metadata": {},
   "outputs": [
    {
     "name": "stdout",
     "output_type": "stream",
     "text": [
      "{'Strength': [3978833320], 'Solidifying': [10399000000], 'Endurance': [1057400000], 'Murdering': [2444444440], 'Swiftness': [3060000000], 'Hunting': [11453093480], 'Destruction': [9477777760], 'Coordination': [14744355480], 'Elusion': [4400000000], 'Restoration': [2620000000], 'Taming': [6130733320], 'Normalizing': [1240000000], 'Sorcery': [2085999980], 'Retaliation': [2804444440], 'Brawling': [2190000000], 'Piercing': [11359999980], 'Weathering': [5706000000], 'Mastery': [9686000000], 'Charming': [10348799980], 'Recklessness': [3140000000], 'Resilience': [3330000000], 'Potency': [8952888840], 'Luck': [11588888860], 'Etching': [2940000000], 'Smithing': [4380000000], 'Wisdom': [1099999980], 'Agility': [9500000000], 'Slaying': [4623899940], 'Exterminating': [11459999980], 'Weedwhacking': [5224833300], 'Harvesting': [13179999980], 'Recovery': [9899999960], 'Celerity': [11155555500], 'Sniping': [6719999980], 'Greed': [1158899980], 'Retribution': [2160000000], 'Chronokinesis': [15555315720], 'Dueling': [3039999980], 'Health': [8099333320]}\n"
     ]
    }
   ],
   "source": [
    "print(prices)"
   ]
  },
  {
   "cell_type": "code",
   "execution_count": 7,
   "metadata": {},
   "outputs": [],
   "source": [
    "pricedf = pd.DataFrame(prices)"
   ]
  },
  {
   "cell_type": "code",
   "execution_count": 8,
   "metadata": {},
   "outputs": [
    {
     "data": {
      "text/html": [
       "<div>\n",
       "<style scoped>\n",
       "    .dataframe tbody tr th:only-of-type {\n",
       "        vertical-align: middle;\n",
       "    }\n",
       "\n",
       "    .dataframe tbody tr th {\n",
       "        vertical-align: top;\n",
       "    }\n",
       "\n",
       "    .dataframe thead th {\n",
       "        text-align: right;\n",
       "    }\n",
       "</style>\n",
       "<table border=\"1\" class=\"dataframe\">\n",
       "  <thead>\n",
       "    <tr style=\"text-align: right;\">\n",
       "      <th></th>\n",
       "      <th>Agility</th>\n",
       "      <th>Brawling</th>\n",
       "      <th>Celerity</th>\n",
       "      <th>Charming</th>\n",
       "      <th>Chronokinesis</th>\n",
       "      <th>Coordination</th>\n",
       "      <th>Destruction</th>\n",
       "      <th>Dueling</th>\n",
       "      <th>Elusion</th>\n",
       "      <th>Endurance</th>\n",
       "      <th>...</th>\n",
       "      <th>Smithing</th>\n",
       "      <th>Sniping</th>\n",
       "      <th>Solidifying</th>\n",
       "      <th>Sorcery</th>\n",
       "      <th>Strength</th>\n",
       "      <th>Swiftness</th>\n",
       "      <th>Taming</th>\n",
       "      <th>Weathering</th>\n",
       "      <th>Weedwhacking</th>\n",
       "      <th>Wisdom</th>\n",
       "    </tr>\n",
       "  </thead>\n",
       "  <tbody>\n",
       "    <tr>\n",
       "      <th>0</th>\n",
       "      <td>9500000000</td>\n",
       "      <td>2190000000</td>\n",
       "      <td>11155555500</td>\n",
       "      <td>10348799980</td>\n",
       "      <td>15555315720</td>\n",
       "      <td>14744355480</td>\n",
       "      <td>9477777760</td>\n",
       "      <td>3039999980</td>\n",
       "      <td>4400000000</td>\n",
       "      <td>1057400000</td>\n",
       "      <td>...</td>\n",
       "      <td>4380000000</td>\n",
       "      <td>6719999980</td>\n",
       "      <td>10399000000</td>\n",
       "      <td>2085999980</td>\n",
       "      <td>3978833320</td>\n",
       "      <td>3060000000</td>\n",
       "      <td>6130733320</td>\n",
       "      <td>5706000000</td>\n",
       "      <td>5224833300</td>\n",
       "      <td>1099999980</td>\n",
       "    </tr>\n",
       "  </tbody>\n",
       "</table>\n",
       "<p>1 rows × 39 columns</p>\n",
       "</div>"
      ],
      "text/plain": [
       "      Agility    Brawling     Celerity     Charming  Chronokinesis  \\\n",
       "0  9500000000  2190000000  11155555500  10348799980    15555315720   \n",
       "\n",
       "   Coordination  Destruction     Dueling     Elusion   Endurance     ...      \\\n",
       "0   14744355480   9477777760  3039999980  4400000000  1057400000     ...       \n",
       "\n",
       "     Smithing     Sniping  Solidifying     Sorcery    Strength   Swiftness  \\\n",
       "0  4380000000  6719999980  10399000000  2085999980  3978833320  3060000000   \n",
       "\n",
       "       Taming  Weathering  Weedwhacking      Wisdom  \n",
       "0  6130733320  5706000000    5224833300  1099999980  \n",
       "\n",
       "[1 rows x 39 columns]"
      ]
     },
     "execution_count": 8,
     "metadata": {},
     "output_type": "execute_result"
    }
   ],
   "source": [
    "pricedf.head()"
   ]
  },
  {
   "cell_type": "code",
   "execution_count": 9,
   "metadata": {},
   "outputs": [
    {
     "data": {
      "text/html": [
       "<div>\n",
       "<style scoped>\n",
       "    .dataframe tbody tr th:only-of-type {\n",
       "        vertical-align: middle;\n",
       "    }\n",
       "\n",
       "    .dataframe tbody tr th {\n",
       "        vertical-align: top;\n",
       "    }\n",
       "\n",
       "    .dataframe thead th {\n",
       "        text-align: right;\n",
       "    }\n",
       "</style>\n",
       "<table border=\"1\" class=\"dataframe\">\n",
       "  <thead>\n",
       "    <tr style=\"text-align: right;\">\n",
       "      <th></th>\n",
       "      <th>price</th>\n",
       "    </tr>\n",
       "  </thead>\n",
       "  <tbody>\n",
       "    <tr>\n",
       "      <th>Agility</th>\n",
       "      <td>9500000000</td>\n",
       "    </tr>\n",
       "    <tr>\n",
       "      <th>Brawling</th>\n",
       "      <td>2190000000</td>\n",
       "    </tr>\n",
       "    <tr>\n",
       "      <th>Celerity</th>\n",
       "      <td>11155555500</td>\n",
       "    </tr>\n",
       "    <tr>\n",
       "      <th>Charming</th>\n",
       "      <td>10348799980</td>\n",
       "    </tr>\n",
       "    <tr>\n",
       "      <th>Chronokinesis</th>\n",
       "      <td>15555315720</td>\n",
       "    </tr>\n",
       "  </tbody>\n",
       "</table>\n",
       "</div>"
      ],
      "text/plain": [
       "                     price\n",
       "Agility         9500000000\n",
       "Brawling        2190000000\n",
       "Celerity       11155555500\n",
       "Charming       10348799980\n",
       "Chronokinesis  15555315720"
      ]
     },
     "execution_count": 9,
     "metadata": {},
     "output_type": "execute_result"
    }
   ],
   "source": [
    "prices_df = pricedf.transpose()\n",
    "prices_df.columns = ['price']\n",
    "prices_df.head()\n"
   ]
  },
  {
   "cell_type": "code",
   "execution_count": 10,
   "metadata": {},
   "outputs": [
    {
     "name": "stdout",
     "output_type": "stream",
     "text": [
      "Endurance 1057400000\n"
     ]
    }
   ],
   "source": [
    "target_name = prices_df.idxmin().item()\n",
    "target_price = prices_df.min().item()\n",
    "print(target_name, target_price)"
   ]
  },
  {
   "cell_type": "code",
   "execution_count": null,
   "metadata": {},
   "outputs": [],
   "source": []
  },
  {
   "cell_type": "code",
   "execution_count": null,
   "metadata": {},
   "outputs": [],
   "source": [
    "Aberration Mind Source\t2,893\t29,999,999\t[Market] [Send]\n",
    "Animal Eye\t4,785\t199,999,989\t[Market] [Send]\n",
    "Animal Tongue\t21,295\t76,000,000\t[Market] [Send]\n",
    "Animal Tooth\t1,022\t75,999,998\t[Market] [Send]\n",
    "Animal Wing\t2,105\t15,998,999\t[Market] [Send]\n",
    "Beast Fur\t6,175\t1,200,000\t[Market] [Send]\n",
    "Beast Limb\t6,152\t3,900,000\t[Market] [Send]\n",
    "Beast Tooth\t2,484\t88,000,000\t[Market] [Send]\n",
    "Beast Wing\t1,762\t56,666,666\t[Market] [Send]\n",
    "Bird Nest\t588\t488,000,000\t[Market] [Send]\n",
    "Bone Shard\t3\t18,000,000,000\t[Market] [Send]\n",
    "Chunk of Coal\t1\t125,000,000\t[Market] [Send]\n",
    "Chunk of Graphite\t2,703\t33,335,333\t[Market] [Send]\n",
    "Construct Power\t5,169\t49,000,000\t[Market] [Send]\n",
    "Copper Ore\t1,408\t83,999,998\t[Market] [Send]\n",
    "Dragon Eye\t816\t264,000,000\t[Market] [Send]\n",
    "Dragon Scale\t8,199\t3,200,000\t[Market] [Send]\n",
    "Dragon Tail\t6,814\t1,300,000\t[Market] [Send]\n",
    "Ectoplasmic Residue\t1\tN/A\t[Market] [Send]\n",
    "Elemental Energy\t6,002\t9,000,000\t[Market] [Send]\n",
    "Fish Fin\t863\t25,000,000\t[Market] [Send]\n",
    "Golden Apple\t3,208\t50,000,000\t[Market] [Send]\n",
    "Honeycomb\t5,511\t12,000,000\t[Market] [Send]\n",
    "Humanoid Bone\t19\t98,700,000\t[Market] [Send]\n",
    "Humanoid Flesh\t1,209\t36,000,000\t[Market] [Send]\n",
    "Humanoid Limb\t4,446\t9,000,000\t[Market] [Send]\n",
    "Lucky Coin\t20\t325,000,000\t[Market] [Send]\n",
    "Magical Stone\t1,601\t118,000,000\t[Market] [Send]\n",
    "Octopus Ink\t3,353\t133,000,000\t[Market] [Send]\n",
    "Ooze Gel\t3,288\t15,000,000\t[Market] [Send]\n",
    "Plant Branch\t2,029\t76,666,665\t[Market] [Send]\n",
    "Plant Leaf\t3,529\t7,777,776\t[Market] [Send]\n",
    "Plant Root\t425\t33,000,000\t[Market] [Send]\n",
    "Plant Vine\t3,385\t63,000,000\t[Market] [Send]\n",
    "Protection Stone\t2,729\t62,999,999\t[Market] [Send]\n",
    "Rainbow Shard\t78\t350,000,000\t[Market] [Send]\n",
    "Rune Stone\t1\t450,000,000\t[Market] [Send]\n",
    "Serpent Eye\t984\t344,000,000\t[Market] [Send]\n",
    "Serpent Tail\t623\t2,500,000\t[Market] [Send]\n",
    "Serpent Tongue\t2,709\t55,000,000\t[Market] [Send]\n",
    "Shadow Stone\t13\t16,000,000,000\t[Market] [Send]\n",
    "Squid Tentacle\t315\t188,000,000\t[Market] [Send]\n",
    "Turkey Feather\t12\tN/A\t\n",
    "Turtle Shell\t2,583\t89,900,000\t[Market] [Send]\n",
    "Vermin Eye\t8,593\t6,666,666\t[Market] [Send]\n",
    "Vermin Tooth\t2,598\t50,000,000\t[Market] [Send]\n",
    "Vial of Dust\t2\t3,000,000,000\t[Market] [Send]\n",
    "Yellow Pollen\t1,581\t112,000,000\t[Market] [Send]"
   ]
  },
  {
   "cell_type": "code",
   "execution_count": 12,
   "metadata": {},
   "outputs": [
    {
     "name": "stdin",
     "output_type": "stream",
     "text": [
      " Aberration Mind Source\t3,161\t30,000,000\t[Market] [Send] Animal Eye\t4,963\t217,777,776\t[Market] [Send] Animal Tongue\t20,122\t125,000,000\t[Market] [Send] Animal Tooth\t1,216\t139,999,999\t[Market] [Send] Animal Wing\t2,476\t89,876,899\t[Market] [Send] Beast Fur\t4,470\t2,870,000\t[Market] [Send] Beast Limb\t6,349\t66,666,666\t[Market] [Send] Beast Tooth\t2,691\t12,000,000\t[Market] [Send] Beast Wing\t1,686\t225,000,000\t[Market] [Send] Bird Nest\t500\t480,000,000\t[Market] [Send] Bone Shard\t3\tN/A\t[Market] [Send] Chunk of Coal\t1\t214,000,000\t[Market] [Send] Chunk of Graphite\t2,703\t48,000,000\t[Market] [Send] Construct Power\t2,352\t32,000,000\t[Market] [Send] Copper Ore\t1,408\t54,950,000\t[Market] [Send] Dragon Eye\t1,027\t225,000,000\t[Market] [Send] Dragon Scale\t8,553\t3,000,000\t[Market] [Send] Dragon Tail\t7,142\t2,900,000\t[Market] [Send] Ectoplasmic Residue\t1\t1,111,111,111,110\t[Market] [Send] Elemental Energy\t6,200\t4,300,000\t[Market] [Send] Fish Fin\t842\t60,000,000\t[Market] [Send] Golden Apple\t1,306\t50,000,000\t[Market] [Send] Honeycomb\t5,511\t105,000,000\t[Market] [Send] Humanoid Bone\t316\t42,222,222\t[Market] [Send] Humanoid Flesh\t1,402\t75,000,000\t[Market] [Send] Humanoid Limb\t4,661\t5,000,000\t[Market] [Send] Lucky Coin\t20\t444,444,443\t[Market] [Send] Magical Stone\t1,601\t99,999,999\t[Market] [Send] Octopus Ink\t3,353\t85,000,000\t[Market] [Send] Ooze Gel\t3,468\t135,000,000\t[Market] [Send] Plant Branch\t2,210\t84,275,000\t[Market] [Send] Plant Leaf\t3,699\t24,966,666\t[Market] [Send] Plant Root\t615\t56,000,000\t[Market] [Send] Plant Vine\t3,561\t95,999,999\t[Market] [Send] Protection Stone\t2,729\t79,500,000\t[Market] [Send] Rainbow Shard\t78\t288,888,888\t[Market] [Send] Rune Stone\t1\t398,999,999\t[Market] [Send] Serpent Eye\t1,154\t294,439,999\t[Market] [Send] Serpent Tail\t820\t98,000,000\t[Market] [Send] Serpent Tongue\t2,982\t125,000,000\t[Market] [Send] Shadow Stone\t13\t13,999,999,999\t[Market] [Send] Squid Tentacle\t326\t240,000,000\t[Market] [Send] Turkey Feather\t12\tN/A\t Turtle Shell\t2,562\t87,000,000\t[Market] [Send] Vermin Eye\t8,767\t68,000,000\t[Market] [Send] Vermin Tooth\t2,780\t24,999,999\t[Market] [Send] Vial of Dust\t2\t5,432,109,875\t[Market] [Send] Yellow Pollen\t1,581\t330,000,000\t[Market] [Send]\n"
     ]
    }
   ],
   "source": [
    "xx = input()"
   ]
  },
  {
   "cell_type": "code",
   "execution_count": 13,
   "metadata": {},
   "outputs": [
    {
     "name": "stdout",
     "output_type": "stream",
     "text": [
      "2162\n"
     ]
    }
   ],
   "source": [
    "print(len(xx))\n",
    "#print(xx)"
   ]
  },
  {
   "cell_type": "code",
   "execution_count": 14,
   "metadata": {},
   "outputs": [
    {
     "name": "stdout",
     "output_type": "stream",
     "text": [
      "48\n"
     ]
    }
   ],
   "source": [
    "xy = xx.split('[Market] [Send]')\n",
    "#xy = xx.split(\"\\n\")\n",
    "print(len(xy))"
   ]
  },
  {
   "cell_type": "code",
   "execution_count": 33,
   "metadata": {},
   "outputs": [
    {
     "name": "stdout",
     "output_type": "stream",
     "text": [
      "['Aberration Mind Source\\t2,893\\t22,000,000\\t', ' Animal Eye\\t4,785\\t189,000,000\\t', ' Animal Tongue\\t21,295\\t34,900,000\\t', ' Animal Tooth\\t1,022\\t42,000,000\\t', ' Animal Wing\\t2,105\\t22,999,999\\t', ' Beast Fur\\t4,880\\t1,245,000\\t', ' Beast Limb\\t6,152\\t4,494,999\\t', ' Beast Tooth\\t2,484\\t46,500,000\\t', ' Beast Wing\\t1,762\\t40,000,000\\t', ' Bird Nest\\t588\\t487,000,000\\t', ' Bone Shard\\t3\\t18,000,000,000\\t', ' Chunk of Coal\\t1\\t103,500,000\\t', ' Chunk of Graphite\\t2,703\\t33,335,332\\t', ' Construct Power\\t5,169\\t48,000,000\\t', ' Copper Ore\\t1,408\\t82,999,999\\t', ' Dragon Eye\\t816\\t199,696,969\\t', ' Dragon Scale\\t8,199\\t1,499,998\\t', ' Dragon Tail\\t6,814\\t1,099,999\\t', ' Ectoplasmic Residue\\t1\\tN/A\\t', ' Elemental Energy\\t6,002\\t6,999,999\\t', ' Fish Fin\\t842\\t24,500,000\\t', ' Golden Apple\\t1,926\\t70,000,000\\t', ' Honeycomb\\t5,511\\t11,000,000\\t', ' Humanoid Bone\\t19\\t67,500,000\\t', ' Humanoid Flesh\\t1,209\\t19,999,000\\t', ' Humanoid Limb\\t4,446\\t7,900,000\\t', ' Lucky Coin\\t20\\t250,000,000\\t', ' Magical Stone\\t1,601\\t60,000,000\\t', ' Octopus Ink\\t3,353\\t100,000,000\\t', ' Ooze Gel\\t3,288\\t11,750,000\\t', ' Plant Branch\\t2,029\\t75,000,000\\t', ' Plant Leaf\\t3,529\\t7,000,000\\t', ' Plant Root\\t425\\t30,000,000\\t', ' Plant Vine\\t3,385\\t59,000,000\\t', ' Protection Stone\\t2,729\\t39,999,999\\t', ' Rainbow Shard\\t78\\t315,000,000\\t', ' Rune Stone\\t1\\t300,000,000\\t', ' Serpent Eye\\t984\\t288,999,999\\t', ' Serpent Tail\\t623\\t2,000,000\\t', ' Serpent Tongue\\t2,709\\t33,999,999\\t', ' Shadow Stone\\t13\\t15,000,000,000\\t', ' Squid Tentacle\\t315\\t179,900,000\\t', ' Turkey Feather\\t12\\tN/A\\t Turtle Shell\\t2,562\\t88,000,000\\t', ' Vermin Eye\\t8,593\\t6,000,000\\t', ' Vermin Tooth\\t2,598\\t50,000,000\\t', ' Vial of Dust\\t2\\t3,000,000,000\\t', ' Yellow Pollen\\t1,581\\t110,000,000\\t', '']\n"
     ]
    }
   ],
   "source": [
    "print(xy)"
   ]
  },
  {
   "cell_type": "code",
   "execution_count": 15,
   "metadata": {},
   "outputs": [],
   "source": [
    "get_rid_of_turkeys = []\n",
    "for line in xy:\n",
    "    if line[0:8] == \" Turkey \":\n",
    "        line = line[23:]\n",
    "    if line[0:1] == \" \":\n",
    "        line = line[1:]\n",
    "    get_rid_of_turkeys.append(line)\n",
    "#    print(len(line), line, type(line))"
   ]
  },
  {
   "cell_type": "code",
   "execution_count": 16,
   "metadata": {},
   "outputs": [],
   "source": [
    "list_of_list = []\n",
    "for line in get_rid_of_turkeys:\n",
    "    zline = line.split('\\t')\n",
    "    list_of_list.append(zline)"
   ]
  },
  {
   "cell_type": "code",
   "execution_count": 17,
   "metadata": {},
   "outputs": [],
   "source": [
    "zz = pd.DataFrame(list_of_list, columns=['ingr','stock','price','blank'])\n",
    "zz = zz[['ingr','stock','price']]\n",
    "df = zz.set_index('ingr')"
   ]
  },
  {
   "cell_type": "code",
   "execution_count": 18,
   "metadata": {},
   "outputs": [
    {
     "name": "stdout",
     "output_type": "stream",
     "text": [
      "4,963\n"
     ]
    }
   ],
   "source": [
    "print(df.loc['Animal Eye','stock'])"
   ]
  },
  {
   "cell_type": "code",
   "execution_count": 19,
   "metadata": {},
   "outputs": [],
   "source": [
    "df = df.replace(',', \"\", regex=True)\n",
    "df= df.drop(df.tail(1).index)"
   ]
  },
  {
   "cell_type": "code",
   "execution_count": 21,
   "metadata": {},
   "outputs": [],
   "source": [
    "df = df.drop(df[df['price'] == 'N/A'].index)\n",
    "df['stock'] = df['stock'].astype(int)\n",
    "df['price'] = df['price'].astype(int)"
   ]
  },
  {
   "cell_type": "code",
   "execution_count": 25,
   "metadata": {},
   "outputs": [
    {
     "name": "stdout",
     "output_type": "stream",
     "text": [
      "Total Current Market Value of Ingrs is  11996739738990\n",
      "The highest quantity of ingrs is 20122\n"
     ]
    }
   ],
   "source": [
    "df['total_bank'] =df['stock'] * df['price']\n",
    "TotalBank = df['total_bank'].sum()\n",
    "MostIngr = df['stock'].max()\n",
    "print(\"Total Current Market Value of Ingrs is \",TotalBank)\n",
    "print(\"The highest quantity of ingrs is\",MostIngr)"
   ]
  },
  {
   "cell_type": "code",
   "execution_count": null,
   "metadata": {},
   "outputs": [],
   "source": []
  }
 ],
 "metadata": {
  "kernelspec": {
   "display_name": "Python 3",
   "language": "python",
   "name": "python3"
  },
  "language_info": {
   "codemirror_mode": {
    "name": "ipython",
    "version": 3
   },
   "file_extension": ".py",
   "mimetype": "text/x-python",
   "name": "python",
   "nbconvert_exporter": "python",
   "pygments_lexer": "ipython3",
   "version": "3.5.2"
  }
 },
 "nbformat": 4,
 "nbformat_minor": 4
}
